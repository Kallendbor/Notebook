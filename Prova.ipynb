{
 "metadata": {
  "name": "",
  "signature": "sha256:c1d7ed6cb05aa777bc344f6f206444ea4644c102675d6750ef6c6956fc279e51"
 },
 "nbformat": 3,
 "nbformat_minor": 0,
 "worksheets": [
  {
   "cells": [
    {
     "cell_type": "markdown",
     "metadata": {},
     "source": [
      "<a id=\"top\"></a>\n",
      "#Minimum Spanning Tree\n",
      "\n",
      "- [Problem description](#section1)\n",
      "- [Constraints](#section2)"
     ]
    },
    {
     "cell_type": "markdown",
     "metadata": {},
     "source": [
      "<br/>  \n",
      "<br/>  "
     ]
    },
    {
     "cell_type": "markdown",
     "metadata": {},
     "source": [
      "<a id='section1'></a>"
     ]
    },
    {
     "cell_type": "markdown",
     "metadata": {},
     "source": [
      "<a id=\"section1\"></a>\n",
      "## Problem description\n",
      "\n",
      "#### Given\n",
      "A symmetric graph *G=(V,E)* and a cost $c_{e} \\ge 0$ for each edge in *E* <br/>  \n",
      "\n",
      "\n",
      "#### Find\n",
      "A minimum cost spanning tree *T* <br/>  \n",
      "\n",
      "####Notation \n",
      "*E(S)*: set of edges induced by S$\\subset$V <br/>   \n",
      "**Cutset** $\\delta(S)=\\{\\{i,j\\}\\in E \\enspace | \\enspace i\\in S, j \\notin S   \\}$ <br/>  \n",
      "\n",
      "####Variables\n",
      "\n",
      "$x_{e} =\\begin{cases} 1 & \\mbox{if edge }e \\mbox{ is selected} \\\\ 0 & \\mbox{otherwise} \\end{cases}$"
     ]
    },
    {
     "cell_type": "markdown",
     "metadata": {},
     "source": [
      "<a id=\"section2\"></a>\n",
      "\n",
      "##Constraint\n",
      "T is spanning <br/>\n",
      "$ \\sum_{e \\in E} x_{e}$ = $\\left\\vert{V}\\right\\vert -1$ <br/>\n",
      "####Connectivity\n",
      "Can be imposed by one of the sets of constraints: <br/>\n",
      "- **Subtour Inequalities**\n",
      "\n",
      "  $ \\sum_{e \\in E(S)} x_{e} \\le \\left\\vert{S}\\right\\vert-1 \\enspace \\forall S \\subset V, 2 \\le S \\le \\left\\vert{V}\\right\\vert -1$  \n",
      "  \n",
      "  <br/>\n",
      "- **Cutset inequalities**\n",
      "\n",
      "  $ \\sum_{e \\in \\delta(S)} x_{e} \\ge 1 $"
     ]
    },
    {
     "cell_type": "heading",
     "level": 2,
     "metadata": {},
     "source": [
      "Required packages"
     ]
    },
    {
     "cell_type": "code",
     "collapsed": false,
     "input": [
      "#!/usr/bin/env python\n",
      "\n",
      "import networkx as nx\n",
      "import pulp as lp\n",
      "from itertools import combinations, chain\n",
      "import argparse\n",
      "from argparse import ArgumentTypeError\n",
      "import pygraphviz as pygv\n",
      "import os"
     ],
     "language": "python",
     "metadata": {},
     "outputs": [],
     "prompt_number": 1
    },
    {
     "cell_type": "markdown",
     "metadata": {},
     "source": [
      "<div style=\"text-align:center;\">[Back to top](#top)</div>"
     ]
    }
   ],
   "metadata": {}
  }
 ]
}