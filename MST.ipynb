{
 "metadata": {
  "name": "",
  "signature": "sha256:77a7b5bf9728c110dd373093a29b65380cde43bc8dcfaffbaaa54661720213f7"
 },
 "nbformat": 3,
 "nbformat_minor": 0,
 "worksheets": [
  {
   "cells": [
    {
     "cell_type": "markdown",
     "metadata": {},
     "source": [
      "#Minimum Spanning Tree  \n"
     ]
    },
    {
     "cell_type": "markdown",
     "metadata": {},
     "source": [
      "\n",
      "\n",
      "- [Problem description](#section1)\n",
      "- [Possible MST formulation](#section2)\n",
      "  - [Subtour Inequalities Formulation](#sec)\n",
      "       - [Implementation](#secimp)\n",
      "       - [Cutting Plane Algorithm](#oracle)\n",
      "  - [Single Commodity Flow Formulation](#singlecomm)\n",
      "       - [Implementation](#singlecommimp)\n",
      "  - [Multicommodity Flow Formulation](#multiflow)\n",
      "       - [Implementation](#multiflowimp)"
     ]
    },
    {
     "cell_type": "markdown",
     "metadata": {},
     "source": [
      "<br/>  \n",
      "<br/>  "
     ]
    },
    {
     "cell_type": "markdown",
     "metadata": {},
     "source": [
      "<a id='section1'></a>"
     ]
    },
    {
     "cell_type": "markdown",
     "metadata": {},
     "source": [
      "## Problem description\n",
      "\n",
      "#### Given  \n",
      "\n",
      "<div class=\"code\"> symmetric graph *G=(V,E)* and a cost $c_{e} \\ge 0$ for each edge in *E*  <br/></div> \n",
      "\n",
      "\n",
      "####Find\n",
      "<div class=\"code\">A minimum cost spanning tree *T* <br/></div>  \n",
      "\n",
      "####Notation \n",
      "<div class=\"code\">*E(S)*: set of edges induced by S$\\subset$V <br/>   \n",
      "\n",
      "**Cutset** $\\delta(S)=\\{\\{i,j\\}\\in E \\enspace | \\enspace i\\in S, j \\notin S   \\}$ <br/> </div> \n",
      " \n",
      " \n",
      "####Variables  \n",
      "\n",
      "<div class=\"code\">$x_{e} =\\begin{cases} 1 & \\mbox{if edge }e \\mbox{ is selected} \\\\ 0 & \\mbox{otherwise} \\end{cases}$</div>"
     ]
    },
    {
     "cell_type": "markdown",
     "metadata": {},
     "source": [
      "##Constraints"
     ]
    },
    {
     "cell_type": "markdown",
     "metadata": {},
     "source": [
      "T is spanning <br/>\n",
      "<div class=\"code\">$ \\sum_{e \\in E} x_{e}$ = $\\left\\vert{V}\\right\\vert -1$ <br/></div>\n",
      "\n",
      "####Connectivity\n",
      "Can be imposed by one of the sets of constraints: <br/>\n",
      "- **Subtour Inequalities**\n",
      "\n",
      "<div class=\"code\">  $ \\sum_{e \\in E(S)} x_{e} \\le \\left\\vert{S}\\right\\vert-1 \\enspace \\enspace \\forall S \\subset V, \\enspace 2 \\le S \\le \\left\\vert{V}\\right\\vert -1$  </div>\n",
      "\n",
      "- **Cutset inequalities**\n",
      "\n",
      "<div class=\"code\">$ \\sum_{e \\in \\delta(S)} x_{e} \\ge 1 \\enspace \\enspace \\forall S \\subset , \\enspace S \\ne \\emptyset ,V   $ </div>"
     ]
    },
    {
     "cell_type": "markdown",
     "metadata": {},
     "source": [
      "####Required packages"
     ]
    },
    {
     "cell_type": "code",
     "collapsed": false,
     "input": [
      "#!/usr/bin/env python\n",
      "\n",
      "import networkx as nx\n",
      "import pulp as lp\n",
      "import os\n",
      "from itertools import combinations, chain"
     ],
     "language": "python",
     "metadata": {},
     "outputs": [],
     "prompt_number": 8
    },
    {
     "cell_type": "markdown",
     "metadata": {},
     "source": [
      "tree.gml is the graph used in this notebook. It's a complete graph with 20 nodes and random costs over its edges. The file is available [here](https://github.com/Kallendbor/Notebook/blob/master/tree.gml)"
     ]
    },
    {
     "cell_type": "code",
     "collapsed": false,
     "input": [
      "G = nx.read_graphml (\"tree.gml\", node_type=int)\n",
      "\n",
      "x = lp.LpVariable.dicts (\"x\", G.edges(), 0, 1, lp.LpContinuous)"
     ],
     "language": "python",
     "metadata": {},
     "outputs": [],
     "prompt_number": 6
    },
    {
     "cell_type": "markdown",
     "metadata": {},
     "source": [
      "<a id='section2'></a>\n",
      "#Possible MST formulations"
     ]
    },
    {
     "cell_type": "markdown",
     "metadata": {},
     "source": [
      "<a id=\"sec\"></a>\n",
      "##Subtour Inequalities Formulation"
     ]
    },
    {
     "cell_type": "markdown",
     "metadata": {},
     "source": [
      "\n",
      "\n",
      "<div class=\"code\">\n",
      "$ min \\sum_{e \\in E(S)} c_{e}x_{e}  $ <br/>\n",
      "\n",
      "s.t. <br/>\n",
      "\n",
      "$ \\sum_{e \\in E} x_{e}$ = $\\left\\vert{V}\\right\\vert -1$ <br/>\n",
      "\n",
      "$ \\sum_{e \\in E(S)} x_{e} \\le \\left\\vert{S}\\right\\vert-1 \\enspace \\enspace \\forall S \\subset V, \\enspace 2 \\le S \\le \\left\\vert{V}\\right\\vert -1$ <br/>\n",
      "\n",
      "$x \\in \\{0,1\\}^{\\mid E \\mid} $\n",
      "</div>"
     ]
    },
    {
     "cell_type": "markdown",
     "metadata": {},
     "source": [
      "<a id=\"secimp\"></a>\n",
      "###Implementation"
     ]
    },
    {
     "cell_type": "code",
     "collapsed": false,
     "input": [
      "#minspanningtreecompl = lp.LpProblem (\"mst\", lp.LpMinimize)\n",
      "\n",
      "#\n",
      "# Objective function\n",
      "#def powerset(iterable):\n",
      "#    \"powerset([1,2,3]) --> () (1,) (2,) (3,) (1,2) (1,3) (2,3) (1,2,3)\"\n",
      "#    s = list(iterable)\n",
      "#    return chain.from_iterable(combinations(s, r) for r in range(len(s)+1))#\n",
      "\n",
      "\n",
      "\n",
      "#minspanningtreecompl += lp.lpSum (G.edge[i[0]][i[1]]['cost'] * x[i] for i in G.edges())\n",
      "\n",
      "#\n",
      "# Constraints\n",
      "#\n",
      "\n",
      "#\n",
      "# Cardinality constraint \n",
      "#\n",
      "\n",
      "#minspanningtreecompl += lp.lpSum (x[i] for i in G.edges()) == G.number_of_nodes() - 1, \"Cardinality\"\n",
      "\n",
      "#\n",
      "# SEC constraints\n",
      "#\n",
      "\n",
      "#SEC = 0\n",
      "#for i in powerset(G.nodes()):\n",
      "#    if (len(i) >= 3 and len(i) <= G.number_of_nodes() - 1):\n",
      "#    \tS = G.subgraph(i)\n",
      "    \t\n",
      "#    \tif (S.number_of_edges() > S.number_of_nodes() - 1):\n",
      "#\t \t\tname = \"SEC\"+str(i)\n",
      "#\t \t\tSEC += 1\n",
      "#\t\t \tminspanningtreecompl += lp.lpSum (x[i] if i in x else x[(i[1],i[0])] for i in S.edges()) <= S.number_of_nodes() - 1, name"
     ],
     "language": "python",
     "metadata": {},
     "outputs": [],
     "prompt_number": 7
    },
    {
     "cell_type": "markdown",
     "metadata": {},
     "source": [
      "<a id=\"oracle\"></a>\n",
      "###Cutting Plane Algorithm (Separation Oracle)\n",
      "\n",
      "**Problem**: SEC formulation is exponential in terms of the number of constraints, so is impracticable even for graphs with small number of vertices.\n",
      "However, a Cutting Plane algorithm can be applied:\n",
      "<div class=\"code\">\n",
      "1. Initialize a formulation P with a subset (eventually empty) \n",
      "of Subtour Elimination Constraints <br/>\n",
      "$\\sum_{e \\in E(S)} x_{e} \\le \\left\\vert{S}\\right\\vert - 1 \\enspace \\enspace$ for some S <br/>\n",
      "2. Solve P <br/>\n",
      "3. **If** the optimal solution $x^{*}$LP of P satisfy all subtour inequalities then \n",
      "\t\t$x^{*}$LP is also the optimal solution of PSUB (the polyhedron defined by the linear programming relaxation of SEC Formulation, **STOP** <br/>\n",
      "        $\\enspace \\thinspace$ **else find** a set of nodes S such that <br/>\n",
      "        $\\sum_{e \\in E(S)} x*_{e} > \\left\\vert{S}\\right\\vert - 1 $ <br/>\n",
      "        4. Add the constraint <br/>\n",
      "        $\\sum_{e \\in E(S)} x_{e} \\le \\left\\vert{S}\\right\\vert - 1$ <br/>\n",
      "        to P and **GOTO** 2 <br/>\n",
      "         </div>\n",
      "         \n",
      "The problem of finding a **violated Subtour Inequality** is called **separation problem** and can be formulated as an **optimization problem**\n",
      "\n",
      "**Decision variables** <br/>\n",
      "\n",
      "$z_{j}$ for j $\\in$ V, such that $\\begin{cases} z_{j}=1 & \\mbox{if j}\\in S\\\\ z_{j}=0 & \\mbox{otherwise} \\end{cases}$\n",
      "\n",
      "**Separation problem and its implementation** <br/>\n",
      "Consider the variable $w_{i j}=z_{i}z_{j}$ <br/><br/> \n",
      "\n",
      "<div class=\"code\">\n",
      "$max \\sum_{e=\\{i,j\\}\\in E} x^{*}_{e}w_{i j} - \\sum_{j\\in V} z_{j}$ <br/>\n",
      "s.t. <br/>\n",
      "$ \\forall e=\\{i j\\} \\in E: \\begin{cases} w_{i j} - z_{i} \\le 0 \\\\ w_{i j} - z_{j} \\le 0  \\end{cases}$ <br/>\n",
      "$z_{k}=1$ <br/>\n",
      "$z \\in [0,1]^{\\mid V \\mid}, w \\in [0,1]^{\\mid E \\mid}$\n",
      "</div>"
     ]
    },
    {
     "cell_type": "code",
     "collapsed": false,
     "input": [
      "#cont = True\n",
      "#ftime = True\n",
      "\n",
      "#while cont: \n",
      "#    minspanningtree.solve (lp.GLPK_CMD(msg=0))\n",
      "#    print \"Current solution value:\", lp.value(minspanningtree.objective)\n",
      "\n",
      "#    cont = False\n",
      "#    for i in G.nodes():\n",
      "#        stat, SEC = SECseparation(x, i)\n",
      "#        if stat:\n",
      "#            cont = True\n",
      "#            name = \"SEC\"+str(SEC)\n",
      "#            S = G.subgraph(SEC)\n",
      "#            print \"Found violated subtour. S =\", S.nodes()\n",
      "\n",
      "            #\n",
      "            # Constraint is added: \n",
      "            # variable key error can occur without  \n",
      "            # the conditional statement if i in x\n",
      "            # \n",
      "\n",
      " #           minspanningtree += lp.lpSum (x[i] if i in x else x[(i[1],i[0])] for i in S.edges()) <= S.number_of_nodes() - 1, name\n",
      " #           minspanningtree.writeLP (str(basename) + '_SEC.lp')\n",
      " #           raw_input(\"Press Enter to continue...\\n\")       \n",
      " #           break\n"
     ],
     "language": "python",
     "metadata": {},
     "outputs": [],
     "prompt_number": 1
    },
    {
     "cell_type": "markdown",
     "metadata": {},
     "source": [
      "<a id=\"singlecomm\"></a>\n",
      "##Single Commodity Flow Formulation"
     ]
    },
    {
     "cell_type": "markdown",
     "metadata": {},
     "source": [
      "The root node supplies n-1 units of flow to the other nodes that demand\n",
      "1 unit of flow each\n",
      "\n",
      "###Variables  \n",
      "\n",
      "<div class=\"code\">$x_{e} =\\begin{cases} 1 & \\mbox{if edge }e \\mbox{ is in the tree} \\\\ 0 & \\mbox{otherwise} \\end{cases}$</div>\n",
      "\n",
      "Associate to each edge e two directed arcs (i,j), (j,i)\n",
      "\n",
      "$f_{i j}$ = {Units of flow carried by arc (i, j)}$\n",
      "\n",
      "###Formulation\n",
      "<div class=\"code\">\n",
      "min cx <br/>\n",
      "s.t. <br/>\n",
      "$\\sum_{j \\in \\delta ^{+} (0)} f_{0j} - \\sum_{i \\in \\delta ^{-} (0)} f_{i0} = n$<br/>\n",
      "$\\sum_{i \\in \\delta ^{-} (0)} f_{iv} - \\sum_{j \\in \\delta ^{+} (0)} f_{vj} = 1 \\enspace \\enspace \\forall v \\in V, \\enspace v \\ne \\{0\\}$<br/>\n",
      "$f_{i j} \\le (n-1)x_{e} \\enspace \\enspace \\forall e \\in E, \\enspace e=\\{i j\\}$ <br/>\n",
      "$f_{j i} \\le (n-1)x_{e} \\enspace \\enspace \\forall e \\in E, \\enspace e=\\{i j\\}$ <br/>\n",
      "</div>\n",
      "\n",
      "<a href=\"#singlecommimp\"></a>\n",
      "###Implementation"
     ]
    },
    {
     "cell_type": "code",
     "collapsed": false,
     "input": [
      "#D = G.to_directed()\n",
      "\n",
      "#f = lp.LpVariable.dicts (\"f\", D.edges(), 0, G.number_of_nodes()\t, lp.LpContinuous)\n",
      "\n",
      "#minspanningtreesingleflow = lp.LpProblem (\"mstflow\", lp.LpMinimize)\n",
      "\n",
      "\n",
      "#\n",
      "# Objective function\n",
      "#\n",
      "\n",
      "#cost = nx.get_edge_attributes (G, 'cost')\n",
      "#minspanningtreesingleflow += lp.lpSum (cost[i] * x[i] for i in G.edges())\n",
      "\n",
      "#\n",
      "# Constraints \n",
      "#\n",
      "\n",
      "#\n",
      "# Cardinality constraint\n",
      "#\n",
      "\n",
      "\n",
      "#minspanningtreesingleflow += lp.lpSum (x[i] for i in G.edges()) == G.number_of_nodes() - 1, \"Cardinality\"\n",
      "\n",
      "#minspanningtreesingleflow += lp.lpSum (f[i] for i in D.out_edges(root)) - lp.lpSum(f[j] for j in D.in_edges(root)) \\\n",
      "#\t\t\t\t== G.number_of_nodes() - 1, \"Root_flow\"\n",
      "\n",
      "#iternodes = iter(G.nodes())\n",
      "#next (iternodes)\n",
      "\n",
      "#for k in iternodes:\n",
      "#\tname = \"Balance_\" + str(k)\n",
      "#\tminspanningtree += \\\n",
      "#\tlp.lpSum (f[i] for i in D.out_edges(k)) - lp.lpSum(f[j] for j in D.in_edges(k)) == -1, name\n",
      "\n",
      "#for i in G.edges():\n",
      "\t\n",
      "#\th = i[0]\n",
      "#\tk = i[1]\n",
      "\n",
      "#\tname = \"Force f(\" + str(h) + \"_\"+ str(k) + \") x\" + str(i)\n",
      "#\tminspanningtreesingleflow += f[(h,k)] <= (G.number_of_nodes() - 1) * x[i], name\n",
      "#\tname = \"Force f(\" + str(k)  + \"_\" + str(h) + \") x\" + str(i)\n",
      "#\tminspanningtreesingleflow += f[(k,h)] <= (G.number_of_nodes() - 1) * x[i], name\n",
      "\n",
      "#minspanningtreesingleflow.solve()"
     ],
     "language": "python",
     "metadata": {},
     "outputs": []
    },
    {
     "cell_type": "markdown",
     "metadata": {},
     "source": [
      "<a id=\"multiflow\"></a>\n",
      "##Directed Multicommodity Flow Formulation"
     ]
    },
    {
     "cell_type": "markdown",
     "metadata": {},
     "source": [
      "The root node supplies n-1 commodities to the other nodes that demand\n",
      "1 commodity each\n",
      "\n",
      "###Variables  \n",
      "\n",
      "<div class=\"code\">$x_{e} =\\begin{cases} 1 & \\mbox{if edge }e \\mbox{ is in the tree} \\\\ 0 & \\mbox{otherwise} \\end{cases}$</div>\n",
      "\n",
      "Associate to each edge e two directed arcs (i,j), (j,i)\n",
      "\n",
      "<div class=\"code\"> $ y_{ij} $ = capacity for the flow of each commodity k in arc (i,j) <br/><br/>\n",
      "\n",
      "$ f^{k}_{ij}$ = {Flow of commodity k carried by arc (i,j)}\n",
      "</div>"
     ]
    },
    {
     "cell_type": "markdown",
     "metadata": {},
     "source": [
      "###Formulation\n",
      "\n",
      "<div class=\"code\">\n",
      "min *cx* <br/>\n",
      "s.t. <br/>\n",
      "$ \\sum_{j \\in \\delta ^{+} (0)} f^{k}_{0j} - \\sum_{i \\in \\delta ^{-} (0)} f^{k}_{i0} = 1 \\enspace \\enspace \\forall k \\ne \\{0\\}$ <br/>\n",
      "\n",
      "$\\sum_{i \\in \\delta ^{-} (v)} f^{k}_{iv} - \\sum_{j \\in \\delta ^{-} (v)} f^{k}_{vj} = 0 \\enspace \\enspace \\forall k \\ne \\{0\\}, \\forall v \\in V, v \\ne \\{0\\}, v \\ne k $ <br/>\n",
      "\n",
      "$ \\sum_{i \\in \\delta ^{-} (k)} f^{k}_{ik} - \\sum_{j \\in \\delta ^{+} (k)} f^{k}_{kj} = 1 \\enspace \\enspace \\forall k \\ne \\{0\\}$<br/>\n",
      "\n",
      "$f^{k}_{ij} \\le y_{ij} \\enspace \\enspace \\forall (i j) \\enspace and \\enspace \\forall k \\ne 0 $ <br/>\n",
      "\n",
      "$ \\sum_{\\{i j\\} \\in E} y_{i j}+y_{j i} = n-1$ <br/>\n",
      "\n",
      "$ y_{i j}+y_{j i} = n-1$ <br/>\n",
      "</div>\n",
      "\n",
      " "
     ]
    },
    {
     "cell_type": "markdown",
     "metadata": {},
     "source": [
      "<a id=\"multiflowimp\"></a>\n",
      "###Implementation"
     ]
    },
    {
     "cell_type": "markdown",
     "metadata": {},
     "source": [
      "####Variable definition"
     ]
    },
    {
     "cell_type": "code",
     "collapsed": false,
     "input": [
      "D = G.to_directed()\n",
      "\n",
      "root = G.nodes()[0]\n",
      "\n",
      "commodities = G.nodes()[1:]\n",
      "nodessetminusroot = G.nodes()[1:]\n",
      "\n",
      "y = lp.LpVariable.dicts (\"y\", D.edges(), 0, 1, lp.LpContinuous)\n",
      "f = lp.LpVariable.dicts (\"f\", [(i, j) for i in D.edges() for j in commodities], 0, G.number_of_nodes(), lp.LpContinuous)\n",
      "\n",
      "minspanningtree = lp.LpProblem (\"mst\", lp.LpMinimize)"
     ],
     "language": "python",
     "metadata": {},
     "outputs": [],
     "prompt_number": 2
    },
    {
     "cell_type": "markdown",
     "metadata": {},
     "source": [
      "####Objective function"
     ]
    },
    {
     "cell_type": "code",
     "collapsed": false,
     "input": [
      "cost = nx.get_edge_attributes (G, 'cost')\n",
      "minspanningtree += lp.lpSum (cost[i] * x[i] for i in G.edges())"
     ],
     "language": "python",
     "metadata": {},
     "outputs": [],
     "prompt_number": 3
    },
    {
     "cell_type": "markdown",
     "metadata": {},
     "source": [
      "####Cardinality constraint"
     ]
    },
    {
     "cell_type": "code",
     "collapsed": false,
     "input": [
      "minspanningtree += lp.lpSum (y[i] for i in D.edges()) == G.number_of_nodes() - 1, \"Cardinality\"\n",
      "\n",
      "for i in G.edges():\n",
      "\t\n",
      "\th = i[0]\n",
      "\tk = i[1]\n",
      "\n",
      "\tname = \"Equality_x_\"+str(i)\n",
      " \tminspanningtree += y[(h,k)] + y[(k,h)] -  x[i] == 0, name"
     ],
     "language": "python",
     "metadata": {},
     "outputs": [],
     "prompt_number": 4
    },
    {
     "cell_type": "markdown",
     "metadata": {},
     "source": [
      "####Variable capacity constraints"
     ]
    },
    {
     "cell_type": "code",
     "collapsed": false,
     "input": [
      "for k in commodities:\n",
      "\tfor i in D.edges():\n",
      "\t\tname = \"Cap_\"+str(i) + \"_Com_\" + str(k)\n",
      "\t\tminspanningtree += f [(i,k)] - y[i] <= 0, name"
     ],
     "language": "python",
     "metadata": {},
     "outputs": [],
     "prompt_number": 5
    },
    {
     "cell_type": "markdown",
     "metadata": {},
     "source": [
      "####Root constraints"
     ]
    },
    {
     "cell_type": "code",
     "collapsed": false,
     "input": [
      "for k in commodities:\n",
      "\tname = \"Root_Com_\"+str(k)\n",
      "\tminspanningtree +=\\\n",
      "\t  - lp.lpSum (f[(i,k)] for i in D.in_edges(root)) + lp.lpSum(f[(j,k)] for j in D.out_edges(root)) == 1, name"
     ],
     "language": "python",
     "metadata": {},
     "outputs": [],
     "prompt_number": 6
    },
    {
     "cell_type": "markdown",
     "metadata": {},
     "source": [
      "####Balance constraints"
     ]
    },
    {
     "cell_type": "code",
     "collapsed": false,
     "input": [
      "for v in nodessetminusroot:\n",
      "\tfor k in commodities:\n",
      "\t\tif (v != k):\n",
      "\t\t\tname = \"Balance_\"+str(v)+\"_Com_\"+str(k)\n",
      "\t\t\tminspanningtree += lp.lpSum (f[(i,k)] for i in D.in_edges(v)) \\\n",
      "\t\t\t\t\t\t\t\t\t- lp.lpSum (f[(j,k)] for j in D.out_edges(v)) == 0, name"
     ],
     "language": "python",
     "metadata": {},
     "outputs": [],
     "prompt_number": 7
    },
    {
     "cell_type": "markdown",
     "metadata": {},
     "source": [
      "####Terminal constraints"
     ]
    },
    {
     "cell_type": "code",
     "collapsed": false,
     "input": [
      "for k in commodities:\n",
      "\tname = \"Term_Com_\"+str(k)\n",
      "\tminspanningtree +=  -lp.lpSum (f[(i,k)] for i in D.in_edges(k)) \\\n",
      "\t\t\t\t\t\t\t+ lp.lpSum(f[(j,k)] for j in D.out_edges(k)) == -1, name"
     ],
     "language": "python",
     "metadata": {},
     "outputs": [],
     "prompt_number": 8
    },
    {
     "cell_type": "markdown",
     "metadata": {},
     "source": [
      "####Problem solution"
     ]
    },
    {
     "cell_type": "code",
     "collapsed": false,
     "input": [
      "minspanningtree.solve(lp.GLPK_CMD(msg=0))\n",
      "\n",
      "for i in G.edges():\n",
      "\tif x[i].varValue > 0.00001:\n",
      "\t\tprint \"x[\",i,\"] = \", x[i].varValue\n",
      "\n",
      "print \"Value of the optimal solution:\", lp.value(minspanningtree.objective)"
     ],
     "language": "python",
     "metadata": {},
     "outputs": [
      {
       "output_type": "stream",
       "stream": "stdout",
       "text": [
        "x[ (1, 11) ] =  1.0\n",
        "x[ (1, 20) ] =  1.0\n",
        "x[ (2, 11) ] =  1.0\n",
        "x[ (3, 7) ] =  1.0\n",
        "x[ (3, 8) ] =  1.0\n",
        "x[ (4, 5) ] =  1.0\n",
        "x[ (5, 6) ] =  1.0\n",
        "x[ (5, 16) ] =  1.0\n",
        "x[ (6, 17) ] =  1.0\n",
        "x[ (8, 13) ] =  1.0\n",
        "x[ (8, 15) ] =  1.0\n",
        "x[ (9, 10) ] =  1.0\n",
        "x[ (9, 15) ] =  1.0\n",
        "x[ (9, 16) ] =  1.0\n",
        "x[ (10, 19) ] =  1.0\n",
        "x[ (11, 18) ] =  1.0\n",
        "x[ (12, 20) ] =  1.0\n",
        "x[ (14, 20) ] =  1.0\n",
        "x[ (17, 18) ] =  1.0\n",
        "Value of the optimal solution: 12644.0\n"
       ]
      }
     ],
     "prompt_number": 9
    },
    {
     "cell_type": "code",
     "collapsed": false,
     "input": [
      "from IPython import utils\n",
      "from IPython.core.display import HTML\n",
      "import os\n",
      "def css_styling():\n",
      "    \"\"\"Load default custom.css file from ipython profile\"\"\"\n",
      "    base = utils.path.get_ipython_dir()\n",
      "    styles = \"<style>\\n%s\\n</style>\" % (open(os.path.join(base,'profile_customcss/static/custom/custom.css'),'r').read())\n",
      "    return HTML(styles)\n",
      "css_styling()"
     ],
     "language": "python",
     "metadata": {},
     "outputs": [
      {
       "html": [
        "<style>\n",
        "%%file /home/rafcar/.ipython/profile_customcss/static/custom/custom.css\n",
        "/**write your css in here**/\n",
        "/* like */\n",
        "\n",
        "<style>\n",
        "    div.cell{\n",
        "        max-width:750px;\n",
        "        margin-left:auto;\n",
        "        margin-right:auto;\n",
        "    }\n",
        "\n",
        "    h1 {\n",
        "        text-align:center;\n",
        "        font-family:\"Verdana\", sans-serif;\n",
        "    }\n",
        "    \n",
        "\n",
        "   /* con text_cell_render si agisce su tutto il testo nelle celle markdown\n",
        "   /* div.text_cell_render{\n",
        "        color:red;\n",
        "    }\n",
        "   */\n",
        "    \n",
        "   .code{\n",
        "   background-color:#fcf2f2;\n",
        "   border-color:#dFb5b4;\n",
        "   border-left: 5px solid #dfb5b4;\n",
        "   padding: 0.5em; \n",
        "   }\n",
        "   \n",
        "   .toc{\n",
        "   background-color:#D2D2D2;\n",
        "   font-size:16px;\n",
        "   border-color:#8F8F8F;\n",
        "\n",
        "   }\n",
        "\n",
        "\n",
        "\n",
        "  \n",
        "</style>\n",
        "\n",
        "</style>"
       ],
       "metadata": {},
       "output_type": "pyout",
       "prompt_number": 1,
       "text": [
        "<IPython.core.display.HTML at 0x39f0ed0>"
       ]
      }
     ],
     "prompt_number": 1
    }
   ],
   "metadata": {}
  }
 ]
}