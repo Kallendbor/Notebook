{
 "metadata": {
  "name": "",
  "signature": "sha256:1682061bc95f1d73ac83a29f94f131759ebd62f33a483a52b2c81131829b472d"
 },
 "nbformat": 3,
 "nbformat_minor": 0,
 "worksheets": [
  {
   "cells": [
    {
     "cell_type": "markdown",
     "metadata": {},
     "source": [
      "#Minimum Spanning Tree  \n"
     ]
    },
    {
     "cell_type": "markdown",
     "metadata": {},
     "source": [
      "\n",
      "\n",
      "- [Problem description](#section1)\n",
      "- [Possible MST formulation](#section2)\n",
      "  - [Subtour Inequalities Formulation](#sec)\n",
      "  - [Multicommodity Flow Formulation](#multiflow)\n",
      "       - [Implementation](#multiflowimp)"
     ]
    },
    {
     "cell_type": "markdown",
     "metadata": {},
     "source": [
      "<br/>  \n",
      "<br/>  "
     ]
    },
    {
     "cell_type": "markdown",
     "metadata": {},
     "source": [
      "<a id='section1'></a>"
     ]
    },
    {
     "cell_type": "markdown",
     "metadata": {},
     "source": [
      "## Problem description\n",
      "\n",
      "#### Given  \n",
      "\n",
      "<div class=\"code\"> symmetric graph *G=(V,E)* and a cost $c_{e} \\ge 0$ for each edge in *E*  <br/></div> \n",
      "\n",
      "\n",
      "####Find\n",
      "<div class=\"code\">A minimum cost spanning tree *T* <br/></div>  \n",
      "\n",
      "####Notation \n",
      "<div class=\"code\">*E(S)*: set of edges induced by S$\\subset$V <br/>   \n",
      "\n",
      "**Cutset** $\\delta(S)=\\{\\{i,j\\}\\in E \\enspace | \\enspace i\\in S, j \\notin S   \\}$ <br/> </div> \n",
      " \n",
      " \n",
      "####Variables  \n",
      "\n",
      "<div class=\"code\">$x_{e} =\\begin{cases} 1 & \\mbox{if edge }e \\mbox{ is selected} \\\\ 0 & \\mbox{otherwise} \\end{cases}$</div>"
     ]
    },
    {
     "cell_type": "markdown",
     "metadata": {},
     "source": [
      "##Constraints"
     ]
    },
    {
     "cell_type": "markdown",
     "metadata": {},
     "source": [
      "T is spanning <br/>\n",
      "<div class=\"code\">$ \\sum_{e \\in E} x_{e}$ = $\\left\\vert{V}\\right\\vert -1$ <br/></div>\n",
      "\n",
      "####Connectivity\n",
      "Can be imposed by one of the sets of constraints: <br/>\n",
      "- **Subtour Inequalities**\n",
      "\n",
      "<div class=\"code\">  $ \\sum_{e \\in E(S)} x_{e} \\le \\left\\vert{S}\\right\\vert-1 \\enspace \\enspace \\forall S \\subset V, \\enspace 2 \\le S \\le \\left\\vert{V}\\right\\vert -1$  </div>\n",
      "\n",
      "- **Cutset inequalities**\n",
      "\n",
      "<div class=\"code\">$ \\sum_{e \\in \\delta(S)} x_{e} \\ge 1 \\enspace \\enspace \\forall S \\subset , \\enspace S \\ne \\emptyset ,V   $ </div>"
     ]
    },
    {
     "cell_type": "markdown",
     "metadata": {},
     "source": [
      "<a id='section2'></a>\n",
      "##Possible MST formulations"
     ]
    },
    {
     "cell_type": "markdown",
     "metadata": {},
     "source": [
      "<a id=\"sec\"></a>\n",
      "###Subtour Inequalities Formulation"
     ]
    },
    {
     "cell_type": "markdown",
     "metadata": {},
     "source": [
      "\n",
      "\n",
      "<div class=\"code\">\n",
      "$ min \\sum_{e \\in E(S)} c_{e}x_{e}  $ <br/>\n",
      "\n",
      "s.t. <br/>\n",
      "\n",
      "$ \\sum_{e \\in E} x_{e}$ = $\\left\\vert{V}\\right\\vert -1$ <br/>\n",
      "\n",
      "$ \\sum_{e \\in E(S)} x_{e} \\le \\left\\vert{S}\\right\\vert-1 \\enspace \\enspace \\forall S \\subset V, \\enspace 2 \\le S \\le \\left\\vert{V}\\right\\vert -1$ <br/>\n",
      "\n",
      "$x \\in \\{0,1\\}^{\\mid E \\mid} $\n",
      "</div>\n",
      "\n",
      "The code mstcomplete.py contain an implementation of this formulation.\n",
      "\n",
      "**Problem**: This formulation is exponential in terms of the number of constraints, so is impracticable even for graphs with small number of vertices.\n",
      "\n"
     ]
    },
    {
     "cell_type": "markdown",
     "metadata": {},
     "source": [
      "<a id=\"multiflow\"></a>\n",
      "###Multicommodity Flow Formulation"
     ]
    },
    {
     "cell_type": "markdown",
     "metadata": {},
     "source": [
      "####Variables  \n",
      "\n",
      "<div class=\"code\">$x_{e} =\\begin{cases} 1 & \\mbox{if edge }e \\mbox{ is in the tree} \\\\ 0 & \\mbox{otherwise} \\end{cases}$</div>\n",
      "\n",
      "Associate to each edge e two directed arcs (i,j), (j,i)\n",
      "\n",
      "<div class=\"code\"> $ y_{ij} $ = capacity for the flow of each commodity k in arc (i,j) <br/><br/>\n",
      "\n",
      "$ f^{k}_{ij}$ = {Flow of commodity k carried by arc (i,j)}\n",
      "</div>"
     ]
    },
    {
     "cell_type": "markdown",
     "metadata": {},
     "source": [
      "<div class=\"code\">\n",
      "min *cx* <br/>\n",
      "s.t. <br/>\n",
      "$ \\sum_{j \\in \\delta ^{+} (0)} f^{k}_{0j} - \\sum_{i \\in \\delta ^{-} (0)} f^{k}_{i0} = 1 \\enspace \\enspace \\forall k \\ne \\{0\\}$ <br/>\n",
      "\n",
      "$\\sum_{i \\in \\delta ^{-} (v)} f^{k}_{iv} - \\sum_{j \\in \\delta ^{-} (v)} f^{k}_{vj} = 0 \\enspace \\enspace \\forall k \\ne \\{0\\}, \\forall v \\in V, v \\ne \\{0\\}, v \\ne k $ <br/>\n",
      "\n",
      "$ \\sum_{i \\in \\delta ^{-} (k)} f^{k}_{ik} - \\sum_{j \\in \\delta ^{+} (k)} f^{k}_{kj} = 1 \\enspace \\enspace \\forall k \\ne \\{0\\}$<br/>\n",
      "\n",
      "$f^{k}_{ij} \\le y_{ij} \\enspace \\enspace \\forall (i j) \\enspace and \\enspace \\forall k \\ne 0 $ <br/>\n",
      "\n",
      "$ \\sum_{\\{i j\\} \\in E} y_{i j}+y_{j i} = n-1$ <br/>\n",
      "\n",
      "$ y_{i j}+y_{j i} = n-1$ <br/>\n",
      "</div>\n",
      "\n",
      " "
     ]
    },
    {
     "cell_type": "markdown",
     "metadata": {},
     "source": [
      "<a id=\"multiflowimp\"></a>\n",
      "##Multicommodity Flow implementation"
     ]
    },
    {
     "cell_type": "markdown",
     "metadata": {},
     "source": [
      "####Required packages"
     ]
    },
    {
     "cell_type": "code",
     "collapsed": false,
     "input": [
      "#!/usr/bin/env python\n",
      "\n",
      "import networkx as nx\n",
      "import pulp as lp\n",
      "import argparse\n",
      "from argparse import ArgumentTypeError\n",
      "import pygraphviz as pygv\n",
      "import os"
     ],
     "language": "python",
     "metadata": {},
     "outputs": [],
     "prompt_number": 1
    },
    {
     "cell_type": "markdown",
     "metadata": {},
     "source": [
      "####Graph loading + Variable definition"
     ]
    },
    {
     "cell_type": "code",
     "collapsed": false,
     "input": [
      "G = nx.read_graphml (\"tree.gml\", node_type=int)\n",
      "\n",
      "D = G.to_directed()\n",
      "\n",
      "root = G.nodes()[0]\n",
      "\n",
      "commodities = G.nodes()[1:]\n",
      "nodessetminusroot = G.nodes()[1:]\n",
      "\n",
      "x = lp.LpVariable.dicts (\"x\", G.edges(), 0, 1, lp.LpContinuous)\n",
      "y = lp.LpVariable.dicts (\"y\", D.edges(), 0, 1, lp.LpContinuous)\n",
      "f = lp.LpVariable.dicts (\"f\", [(i, j) for i in D.edges() for j in commodities], 0, G.number_of_nodes(), lp.LpContinuous)\n",
      "\n",
      "minspanningtree = lp.LpProblem (\"mst\", lp.LpMinimize)"
     ],
     "language": "python",
     "metadata": {},
     "outputs": [],
     "prompt_number": 2
    },
    {
     "cell_type": "markdown",
     "metadata": {},
     "source": [
      "####Objective function"
     ]
    },
    {
     "cell_type": "code",
     "collapsed": false,
     "input": [
      "cost = nx.get_edge_attributes (G, 'cost')\n",
      "minspanningtree += lp.lpSum (cost[i] * x[i] for i in G.edges())"
     ],
     "language": "python",
     "metadata": {},
     "outputs": [],
     "prompt_number": 3
    },
    {
     "cell_type": "markdown",
     "metadata": {},
     "source": [
      "####Cardinality constraint"
     ]
    },
    {
     "cell_type": "code",
     "collapsed": false,
     "input": [
      "minspanningtree += lp.lpSum (y[i] for i in D.edges()) == G.number_of_nodes() - 1, \"Cardinality\"\n",
      "\n",
      "for i in G.edges():\n",
      "\t\n",
      "\th = i[0]\n",
      "\tk = i[1]\n",
      "\n",
      "\tname = \"Equality_x_\"+str(i)\n",
      " \tminspanningtree += y[(h,k)] + y[(k,h)] -  x[i] == 0, name"
     ],
     "language": "python",
     "metadata": {},
     "outputs": [],
     "prompt_number": 4
    },
    {
     "cell_type": "markdown",
     "metadata": {},
     "source": [
      "####Variable capacity constraints"
     ]
    },
    {
     "cell_type": "code",
     "collapsed": false,
     "input": [
      "for k in commodities:\n",
      "\tfor i in D.edges():\n",
      "\t\tname = \"Cap_\"+str(i) + \"_Com_\" + str(k)\n",
      "\t\tminspanningtree += f [(i,k)] - y[i] <= 0, name"
     ],
     "language": "python",
     "metadata": {},
     "outputs": [],
     "prompt_number": 5
    },
    {
     "cell_type": "markdown",
     "metadata": {},
     "source": [
      "####Root constraints"
     ]
    },
    {
     "cell_type": "code",
     "collapsed": false,
     "input": [
      "for k in commodities:\n",
      "\tname = \"Root_Com_\"+str(k)\n",
      "\tminspanningtree +=\\\n",
      "\t  - lp.lpSum (f[(i,k)] for i in D.in_edges(root)) + lp.lpSum(f[(j,k)] for j in D.out_edges(root)) == 1, name"
     ],
     "language": "python",
     "metadata": {},
     "outputs": [],
     "prompt_number": 6
    },
    {
     "cell_type": "markdown",
     "metadata": {},
     "source": [
      "####Balance constraints"
     ]
    },
    {
     "cell_type": "code",
     "collapsed": false,
     "input": [
      "for v in nodessetminusroot:\n",
      "\tfor k in commodities:\n",
      "\t\tif (v != k):\n",
      "\t\t\tname = \"Balance_\"+str(v)+\"_Com_\"+str(k)\n",
      "\t\t\tminspanningtree += lp.lpSum (f[(i,k)] for i in D.in_edges(v)) \\\n",
      "\t\t\t\t\t\t\t\t\t- lp.lpSum (f[(j,k)] for j in D.out_edges(v)) == 0, name"
     ],
     "language": "python",
     "metadata": {},
     "outputs": [],
     "prompt_number": 7
    },
    {
     "cell_type": "markdown",
     "metadata": {},
     "source": [
      "####Terminal constraints"
     ]
    },
    {
     "cell_type": "code",
     "collapsed": false,
     "input": [
      "for k in commodities:\n",
      "\tname = \"Term_Com_\"+str(k)\n",
      "\tminspanningtree +=  -lp.lpSum (f[(i,k)] for i in D.in_edges(k)) \\\n",
      "\t\t\t\t\t\t\t+ lp.lpSum(f[(j,k)] for j in D.out_edges(k)) == -1, name"
     ],
     "language": "python",
     "metadata": {},
     "outputs": [],
     "prompt_number": 8
    },
    {
     "cell_type": "markdown",
     "metadata": {},
     "source": [
      "####Problem solution"
     ]
    },
    {
     "cell_type": "code",
     "collapsed": false,
     "input": [
      "minspanningtree.solve(lp.GLPK_CMD(msg=0))\n",
      "\n",
      "for i in G.edges():\n",
      "\tif x[i].varValue > 0.00001:\n",
      "\t\tprint \"x[\",i,\"] = \", x[i].varValue\n",
      "\n",
      "print \"Value of the optimal solution:\", lp.value(minspanningtree.objective)"
     ],
     "language": "python",
     "metadata": {},
     "outputs": [
      {
       "output_type": "stream",
       "stream": "stdout",
       "text": [
        "x[ (1, 11) ] =  1.0\n",
        "x[ (1, 20) ] =  1.0\n",
        "x[ (2, 11) ] =  1.0\n",
        "x[ (3, 7) ] =  1.0\n",
        "x[ (3, 8) ] =  1.0\n",
        "x[ (4, 5) ] =  1.0\n",
        "x[ (5, 6) ] =  1.0\n",
        "x[ (5, 16) ] =  1.0\n",
        "x[ (6, 17) ] =  1.0\n",
        "x[ (8, 13) ] =  1.0\n",
        "x[ (8, 15) ] =  1.0\n",
        "x[ (9, 10) ] =  1.0\n",
        "x[ (9, 15) ] =  1.0\n",
        "x[ (9, 16) ] =  1.0\n",
        "x[ (10, 19) ] =  1.0\n",
        "x[ (11, 18) ] =  1.0\n",
        "x[ (12, 20) ] =  1.0\n",
        "x[ (14, 20) ] =  1.0\n",
        "x[ (17, 18) ] =  1.0\n",
        "Value of the optimal solution: 12644.0\n"
       ]
      }
     ],
     "prompt_number": 9
    },
    {
     "cell_type": "code",
     "collapsed": false,
     "input": [
      "from IPython import utils\n",
      "from IPython.core.display import HTML\n",
      "import os\n",
      "def css_styling():\n",
      "    \"\"\"Load default custom.css file from ipython profile\"\"\"\n",
      "    base = utils.path.get_ipython_dir()\n",
      "    styles = \"<style>\\n%s\\n</style>\" % (open(os.path.join(base,'profile_customcss/static/custom/custom.css'),'r').read())\n",
      "    return HTML(styles)\n",
      "css_styling()"
     ],
     "language": "python",
     "metadata": {},
     "outputs": [
      {
       "html": [
        "<style>\n",
        "%%file /home/rafcar/.ipython/profile_customcss/static/custom/custom.css\n",
        "/**write your css in here**/\n",
        "/* like */\n",
        "\n",
        "<style>\n",
        "    div.cell{\n",
        "        max-width:750px;\n",
        "        margin-left:auto;\n",
        "        margin-right:auto;\n",
        "    }\n",
        "\n",
        "    h1 {\n",
        "        text-align:center;\n",
        "        font-family:\"Verdana\", sans-serif;\n",
        "    }\n",
        "    \n",
        "\n",
        "   /* con text_cell_render si agisce su tutto il testo nelle celle markdown\n",
        "   /* div.text_cell_render{\n",
        "        color:red;\n",
        "    }\n",
        "   */\n",
        "    \n",
        "   .code{\n",
        "   background-color:#fcf2f2;\n",
        "   border-color:#dFb5b4;\n",
        "   border-left: 5px solid #dfb5b4;\n",
        "   padding: 0.5em; \n",
        "   }\n",
        "   \n",
        "   .toc{\n",
        "   background-color:#D2D2D2;\n",
        "   font-size:16px;\n",
        "   border-color:#8F8F8F;\n",
        "\n",
        "   }\n",
        "\n",
        "\n",
        "\n",
        "  \n",
        "</style>\n",
        "\n",
        "</style>"
       ],
       "metadata": {},
       "output_type": "pyout",
       "prompt_number": 10,
       "text": [
        "<IPython.core.display.HTML at 0x2a1e610>"
       ]
      }
     ],
     "prompt_number": 10
    },
    {
     "cell_type": "code",
     "collapsed": false,
     "input": [],
     "language": "python",
     "metadata": {},
     "outputs": []
    }
   ],
   "metadata": {}
  }
 ]
}